{
 "cells": [
  {
   "cell_type": "code",
   "execution_count": 12,
   "id": "9af2d703",
   "metadata": {},
   "outputs": [
    {
     "name": "stdout",
     "output_type": "stream",
     "text": [
      "Collecting gspread\n",
      "  Obtaining dependency information for gspread from https://files.pythonhosted.org/packages/47/c7/28ad61476626d635288d1671326f6540145778a5f2fc9f907ad4d929ba90/gspread-6.1.4-py3-none-any.whl.metadata\n",
      "  Downloading gspread-6.1.4-py3-none-any.whl.metadata (11 kB)\n",
      "Collecting oauth2client\n",
      "  Obtaining dependency information for oauth2client from https://files.pythonhosted.org/packages/95/a9/4f25a14d23f0786b64875b91784607c2277eff25d48f915e39ff0cff505a/oauth2client-4.1.3-py2.py3-none-any.whl.metadata\n",
      "  Downloading oauth2client-4.1.3-py2.py3-none-any.whl.metadata (1.2 kB)\n",
      "Requirement already satisfied: google-auth>=1.12.0 in c:\\users\\user\\anaconda3\\lib\\site-packages (from gspread) (2.38.0)\n",
      "Requirement already satisfied: google-auth-oauthlib>=0.4.1 in c:\\users\\user\\anaconda3\\lib\\site-packages (from gspread) (1.2.1)\n",
      "Requirement already satisfied: httplib2>=0.9.1 in c:\\users\\user\\anaconda3\\lib\\site-packages (from oauth2client) (0.22.0)\n",
      "Requirement already satisfied: pyasn1>=0.1.7 in c:\\users\\user\\anaconda3\\lib\\site-packages (from oauth2client) (0.4.8)\n",
      "Requirement already satisfied: pyasn1-modules>=0.0.5 in c:\\users\\user\\anaconda3\\lib\\site-packages (from oauth2client) (0.2.8)\n",
      "Requirement already satisfied: rsa>=3.1.4 in c:\\users\\user\\anaconda3\\lib\\site-packages (from oauth2client) (4.9)\n",
      "Requirement already satisfied: six>=1.6.1 in c:\\users\\user\\anaconda3\\lib\\site-packages (from oauth2client) (1.16.0)\n",
      "Requirement already satisfied: cachetools<6.0,>=2.0.0 in c:\\users\\user\\anaconda3\\lib\\site-packages (from google-auth>=1.12.0->gspread) (5.5.1)\n",
      "Requirement already satisfied: requests-oauthlib>=0.7.0 in c:\\users\\user\\anaconda3\\lib\\site-packages (from google-auth-oauthlib>=0.4.1->gspread) (2.0.0)\n",
      "Requirement already satisfied: pyparsing!=3.0.0,!=3.0.1,!=3.0.2,!=3.0.3,<4,>=2.4.2 in c:\\users\\user\\anaconda3\\lib\\site-packages (from httplib2>=0.9.1->oauth2client) (3.0.9)\n",
      "Requirement already satisfied: oauthlib>=3.0.0 in c:\\users\\user\\anaconda3\\lib\\site-packages (from requests-oauthlib>=0.7.0->google-auth-oauthlib>=0.4.1->gspread) (3.2.2)\n",
      "Requirement already satisfied: requests>=2.0.0 in c:\\users\\user\\anaconda3\\lib\\site-packages (from requests-oauthlib>=0.7.0->google-auth-oauthlib>=0.4.1->gspread) (2.31.0)\n",
      "Requirement already satisfied: charset-normalizer<4,>=2 in c:\\users\\user\\anaconda3\\lib\\site-packages (from requests>=2.0.0->requests-oauthlib>=0.7.0->google-auth-oauthlib>=0.4.1->gspread) (2.0.4)\n",
      "Requirement already satisfied: idna<4,>=2.5 in c:\\users\\user\\anaconda3\\lib\\site-packages (from requests>=2.0.0->requests-oauthlib>=0.7.0->google-auth-oauthlib>=0.4.1->gspread) (3.4)\n",
      "Requirement already satisfied: urllib3<3,>=1.21.1 in c:\\users\\user\\anaconda3\\lib\\site-packages (from requests>=2.0.0->requests-oauthlib>=0.7.0->google-auth-oauthlib>=0.4.1->gspread) (1.26.16)\n",
      "Requirement already satisfied: certifi>=2017.4.17 in c:\\users\\user\\anaconda3\\lib\\site-packages (from requests>=2.0.0->requests-oauthlib>=0.7.0->google-auth-oauthlib>=0.4.1->gspread) (2024.8.30)\n",
      "Downloading gspread-6.1.4-py3-none-any.whl (57 kB)\n",
      "   ---------------------------------------- 0.0/57.6 kB ? eta -:--:--\n",
      "   ------- -------------------------------- 10.2/57.6 kB ? eta -:--:--\n",
      "   ---------------------------------------- 57.6/57.6 kB 763.5 kB/s eta 0:00:00\n",
      "Downloading oauth2client-4.1.3-py2.py3-none-any.whl (98 kB)\n",
      "   ---------------------------------------- 0.0/98.2 kB ? eta -:--:--\n",
      "   ---------------------------------------- 98.2/98.2 kB 1.9 MB/s eta 0:00:00\n",
      "Installing collected packages: oauth2client, gspread\n",
      "Successfully installed gspread-6.1.4 oauth2client-4.1.3\n"
     ]
    }
   ],
   "source": [
    "!pip install gspread oauth2client\n"
   ]
  },
  {
   "cell_type": "code",
   "execution_count": 14,
   "id": "e8d4af11",
   "metadata": {},
   "outputs": [
    {
     "name": "stdout",
     "output_type": "stream",
     "text": [
      "[]\n"
     ]
    }
   ],
   "source": [
    "import gspread\n",
    "from oauth2client.service_account import ServiceAccountCredentials\n",
    "\n",
    "# Define the scope for accessing Google Sheets and Drive\n",
    "scope = [\"https://spreadsheets.google.com/feeds\", \"https://www.googleapis.com/auth/drive\"]\n",
    "\n",
    "# Use the JSON key file for authentication\n",
    "creds = ServiceAccountCredentials.from_json_keyfile_name('forms-automation-key.json', scope)\n",
    "\n",
    "# Authorize the client\n",
    "client = gspread.authorize(creds)\n",
    "\n",
    "# Test the connection by listing available spreadsheets\n",
    "print(client.openall())\n"
   ]
  },
  {
   "cell_type": "code",
   "execution_count": 15,
   "id": "d29dcdfa",
   "metadata": {},
   "outputs": [
    {
     "name": "stdout",
     "output_type": "stream",
     "text": [
      "✅ Google Sheet Created and Ready for Responses!\n"
     ]
    }
   ],
   "source": [
    "# Create a new Google Sheet named \"Capstone Project Registration\"\n",
    "spreadsheet = client.create('Capstone Project Registration')\n",
    "\n",
    "# Share the sheet with your email so you can view/edit it directly in Google Sheets\n",
    "spreadsheet.share('manjubr.biet@gmail.com', perm_type='user', role='writer')  # Replace with your email\n",
    "\n",
    "# Select the first sheet\n",
    "sheet = spreadsheet.sheet1\n",
    "\n",
    "# Add headers (survey questions)\n",
    "sheet.append_row([\n",
    "    'Name', \n",
    "    'Registration Number', \n",
    "    'Gender', \n",
    "    'Mobile', \n",
    "    'Email', \n",
    "    'Major Specialization', \n",
    "    'Preferred Industry/Function', \n",
    "    'Justification'\n",
    "])\n",
    "\n",
    "print(\"✅ Google Sheet Created and Ready for Responses!\")\n"
   ]
  },
  {
   "cell_type": "code",
   "execution_count": 17,
   "id": "c6647616",
   "metadata": {},
   "outputs": [
    {
     "name": "stdout",
     "output_type": "stream",
     "text": [
      "📝 Capstone Project Registration Form\n",
      "\n",
      "Name: Manju\n",
      "Registration Number: hscbe\n",
      "Gender (Male/Female): hcvhgwec\n",
      "Mobile: hgacvec\n",
      "Email: ghwe\n",
      "Major Specialization (Finance/HR/Marketing/Business Analytics): cbec\n",
      "\n",
      "Select an Industry/Function:\n",
      "1. Real Estate - House Price Prediction\n",
      "2. BFSI - Life Insurance Sales\n",
      "3. E-commerce - Customer Churn Prediction\n",
      "4. Sports - Cricket Win Prediction\n",
      "5. Healthcare - Life Insurance Cost\n",
      "6. HR - Salary Prediction\n",
      "7. Social Media - Tourism Adoption Project\n",
      "8. Supply Chain - Product Shipment Weight\n",
      "9. Banking - Probability of Default\n",
      "Enter the number of your preferred industry/function (1-9): 1\n",
      "Justify your preference: hsceewc\n",
      "\n",
      "✅ Response Submitted Successfully!\n"
     ]
    }
   ],
   "source": [
    "def collect_response():\n",
    "    print(\"📝 Capstone Project Registration Form\\n\")\n",
    "    \n",
    "    # Collect student details\n",
    "    name = input(\"Name: \")\n",
    "    reg_no = input(\"Registration Number: \")\n",
    "    gender = input(\"Gender (Male/Female): \")\n",
    "    mobile = input(\"Mobile: \")\n",
    "    email = input(\"Email: \")\n",
    "    specialization = input(\"Major Specialization (Finance/HR/Marketing/Business Analytics): \")\n",
    "    \n",
    "    # Display Industry/Function options\n",
    "    print(\"\\nSelect an Industry/Function:\")\n",
    "    options = [\n",
    "        \"1. Real Estate - House Price Prediction\",\n",
    "        \"2. BFSI - Life Insurance Sales\",\n",
    "        \"3. E-commerce - Customer Churn Prediction\",\n",
    "        \"4. Sports - Cricket Win Prediction\",\n",
    "        \"5. Healthcare - Life Insurance Cost\",\n",
    "        \"6. HR - Salary Prediction\",\n",
    "        \"7. Social Media - Tourism Adoption Project\",\n",
    "        \"8. Supply Chain - Product Shipment Weight\",\n",
    "        \"9. Banking - Probability of Default\"\n",
    "    ]\n",
    "    \n",
    "    for option in options:\n",
    "        print(option)\n",
    "    \n",
    "    # Validate industry choice input\n",
    "    while True:\n",
    "        industry_choice = input(\"Enter the number of your preferred industry/function (1-9): \")\n",
    "        if industry_choice.isdigit() and 1 <= int(industry_choice) <= 9:\n",
    "            break\n",
    "        else:\n",
    "            print(\"❌ Invalid input. Please enter a number between 1 and 9.\")\n",
    "    \n",
    "    # Collect justification\n",
    "    justification = input(\"Justify your preference: \")\n",
    "    \n",
    "    # Save the response to Google Sheet\n",
    "    sheet.append_row([\n",
    "        name, reg_no, gender, mobile, email, specialization, \n",
    "        options[int(industry_choice)-1], justification\n",
    "    ])\n",
    "    \n",
    "    print(\"\\n✅ Response Submitted Successfully!\")\n",
    "\n",
    "# Run the form\n",
    "collect_response()\n"
   ]
  },
  {
   "cell_type": "code",
   "execution_count": 18,
   "id": "73d41c0a",
   "metadata": {},
   "outputs": [
    {
     "data": {
      "text/html": [
       "<div>\n",
       "<style scoped>\n",
       "    .dataframe tbody tr th:only-of-type {\n",
       "        vertical-align: middle;\n",
       "    }\n",
       "\n",
       "    .dataframe tbody tr th {\n",
       "        vertical-align: top;\n",
       "    }\n",
       "\n",
       "    .dataframe thead th {\n",
       "        text-align: right;\n",
       "    }\n",
       "</style>\n",
       "<table border=\"1\" class=\"dataframe\">\n",
       "  <thead>\n",
       "    <tr style=\"text-align: right;\">\n",
       "      <th></th>\n",
       "      <th>Name</th>\n",
       "      <th>Registration Number</th>\n",
       "      <th>Gender</th>\n",
       "      <th>Mobile</th>\n",
       "      <th>Email</th>\n",
       "      <th>Major Specialization</th>\n",
       "      <th>Preferred Industry/Function</th>\n",
       "      <th>Justification</th>\n",
       "    </tr>\n",
       "  </thead>\n",
       "  <tbody>\n",
       "    <tr>\n",
       "      <th>0</th>\n",
       "      <td>Manju</td>\n",
       "      <td>hscbe</td>\n",
       "      <td>hcvhgwec</td>\n",
       "      <td>hgacvec</td>\n",
       "      <td>ghwe</td>\n",
       "      <td>cbec</td>\n",
       "      <td>1. Real Estate - House Price Prediction</td>\n",
       "      <td>hsceewc</td>\n",
       "    </tr>\n",
       "  </tbody>\n",
       "</table>\n",
       "</div>"
      ],
      "text/plain": [
       "    Name Registration Number    Gender   Mobile Email Major Specialization  \\\n",
       "0  Manju               hscbe  hcvhgwec  hgacvec  ghwe                 cbec   \n",
       "\n",
       "               Preferred Industry/Function Justification  \n",
       "0  1. Real Estate - House Price Prediction       hsceewc  "
      ]
     },
     "metadata": {},
     "output_type": "display_data"
    }
   ],
   "source": [
    "import pandas as pd\n",
    "data = sheet.get_all_records()\n",
    "df = pd.DataFrame(data)\n",
    "display(df)\n"
   ]
  }
 ],
 "metadata": {
  "kernelspec": {
   "display_name": "Python 3 (ipykernel)",
   "language": "python",
   "name": "python3"
  },
  "language_info": {
   "codemirror_mode": {
    "name": "ipython",
    "version": 3
   },
   "file_extension": ".py",
   "mimetype": "text/x-python",
   "name": "python",
   "nbconvert_exporter": "python",
   "pygments_lexer": "ipython3",
   "version": "3.11.5"
  }
 },
 "nbformat": 4,
 "nbformat_minor": 5
}
